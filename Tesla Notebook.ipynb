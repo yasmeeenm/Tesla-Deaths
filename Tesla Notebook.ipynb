{
 "cells": [
  {
   "cell_type": "markdown",
   "id": "ba27b407",
   "metadata": {},
   "source": [
    "# Tesla Deaths Exploratory Data Analysis"
   ]
  },
  {
   "cell_type": "code",
   "execution_count": 1,
   "id": "5c3fc0e9",
   "metadata": {},
   "outputs": [],
   "source": [
    "import numpy as np\n",
    "import seaborn as sns\n",
    "import pandas as pd\n",
    "import matplotlib.pyplot as plt"
   ]
  },
  {
   "cell_type": "code",
   "execution_count": 2,
   "id": "42b33571",
   "metadata": {},
   "outputs": [],
   "source": [
    "df = pd.read_csv('../Tesla Deaths/tesla.csv')"
   ]
  },
  {
   "cell_type": "code",
   "execution_count": 29,
   "id": "1188b188",
   "metadata": {},
   "outputs": [],
   "source": [
    "sns.set_theme(style='whitegrid',palette='mako' )"
   ]
  },
  {
   "cell_type": "code",
   "execution_count": 49,
   "id": "fcbb9096",
   "metadata": {
    "scrolled": false
   },
   "outputs": [
    {
     "data": {
      "text/html": [
       "<div>\n",
       "<style scoped>\n",
       "    .dataframe tbody tr th:only-of-type {\n",
       "        vertical-align: middle;\n",
       "    }\n",
       "\n",
       "    .dataframe tbody tr th {\n",
       "        vertical-align: top;\n",
       "    }\n",
       "\n",
       "    .dataframe thead th {\n",
       "        text-align: right;\n",
       "    }\n",
       "</style>\n",
       "<table border=\"1\" class=\"dataframe\">\n",
       "  <thead>\n",
       "    <tr style=\"text-align: right;\">\n",
       "      <th></th>\n",
       "      <th>Case #</th>\n",
       "      <th>Year</th>\n",
       "      <th>Date</th>\n",
       "      <th>Country</th>\n",
       "      <th>State</th>\n",
       "      <th>Description</th>\n",
       "      <th>Deaths</th>\n",
       "      <th>Tesla driver</th>\n",
       "      <th>Tesla occupant</th>\n",
       "      <th>Other vehicle</th>\n",
       "      <th>...</th>\n",
       "      <th>TSLA+cycl / peds</th>\n",
       "      <th>Model</th>\n",
       "      <th>AutoPilot claimed</th>\n",
       "      <th>Verified Tesla Autopilot Death</th>\n",
       "      <th>Source</th>\n",
       "      <th>Note</th>\n",
       "      <th>Deceased 1</th>\n",
       "      <th>Deceased 2</th>\n",
       "      <th>Deceased 3</th>\n",
       "      <th>Deceased 4</th>\n",
       "    </tr>\n",
       "  </thead>\n",
       "  <tbody>\n",
       "    <tr>\n",
       "      <th>0</th>\n",
       "      <td>254</td>\n",
       "      <td>2022</td>\n",
       "      <td>8/16/2022</td>\n",
       "      <td>Germany</td>\n",
       "      <td>NaN</td>\n",
       "      <td>Tesla car crashes into tree, burns</td>\n",
       "      <td>2</td>\n",
       "      <td>NaN</td>\n",
       "      <td>NaN</td>\n",
       "      <td>-</td>\n",
       "      <td>...</td>\n",
       "      <td>2</td>\n",
       "      <td>NaN</td>\n",
       "      <td>-</td>\n",
       "      <td>-</td>\n",
       "      <td>https://www.tag24.de/nachrichten/unfall/tesla...</td>\n",
       "      <td>NaN</td>\n",
       "      <td>NaN</td>\n",
       "      <td>NaN</td>\n",
       "      <td>NaN</td>\n",
       "      <td>NaN</td>\n",
       "    </tr>\n",
       "    <tr>\n",
       "      <th>1</th>\n",
       "      <td>253</td>\n",
       "      <td>2022</td>\n",
       "      <td>8/15/2022</td>\n",
       "      <td>USA</td>\n",
       "      <td>CA</td>\n",
       "      <td>Tesla veers into oncoming traffic</td>\n",
       "      <td>4</td>\n",
       "      <td>1</td>\n",
       "      <td>3</td>\n",
       "      <td>-</td>\n",
       "      <td>...</td>\n",
       "      <td>4</td>\n",
       "      <td>NaN</td>\n",
       "      <td>-</td>\n",
       "      <td>-</td>\n",
       "      <td>https://www.ksbw.com/article/hollister-crash-...</td>\n",
       "      <td>NaN</td>\n",
       "      <td>NaN</td>\n",
       "      <td>NaN</td>\n",
       "      <td>NaN</td>\n",
       "      <td>NaN</td>\n",
       "    </tr>\n",
       "    <tr>\n",
       "      <th>2</th>\n",
       "      <td>252</td>\n",
       "      <td>2022</td>\n",
       "      <td>8/14/2022</td>\n",
       "      <td>Finland</td>\n",
       "      <td>NaN</td>\n",
       "      <td>Unlicensed driver hits pedestrian</td>\n",
       "      <td>1</td>\n",
       "      <td>-</td>\n",
       "      <td>-</td>\n",
       "      <td>-</td>\n",
       "      <td>...</td>\n",
       "      <td>1</td>\n",
       "      <td>NaN</td>\n",
       "      <td>-</td>\n",
       "      <td>-</td>\n",
       "      <td>https://yle.fi/uutiset/3-12576787</td>\n",
       "      <td>NaN</td>\n",
       "      <td>NaN</td>\n",
       "      <td>NaN</td>\n",
       "      <td>NaN</td>\n",
       "      <td>NaN</td>\n",
       "    </tr>\n",
       "    <tr>\n",
       "      <th>3</th>\n",
       "      <td>251</td>\n",
       "      <td>2022</td>\n",
       "      <td>8/2/2022</td>\n",
       "      <td>USA</td>\n",
       "      <td>FL</td>\n",
       "      <td>Man in wheelchair hit crossing road</td>\n",
       "      <td>1</td>\n",
       "      <td>-</td>\n",
       "      <td>-</td>\n",
       "      <td>-</td>\n",
       "      <td>...</td>\n",
       "      <td>1</td>\n",
       "      <td>3</td>\n",
       "      <td>-</td>\n",
       "      <td>-</td>\n",
       "      <td>https://www.wfla.com/news/man-in-wheelchair-f...</td>\n",
       "      <td>NaN</td>\n",
       "      <td>NaN</td>\n",
       "      <td>NaN</td>\n",
       "      <td>NaN</td>\n",
       "      <td>NaN</td>\n",
       "    </tr>\n",
       "    <tr>\n",
       "      <th>4</th>\n",
       "      <td>250</td>\n",
       "      <td>2022</td>\n",
       "      <td>7/27/2022</td>\n",
       "      <td>USA</td>\n",
       "      <td>ME</td>\n",
       "      <td>Tesla crashes at high speed</td>\n",
       "      <td>1</td>\n",
       "      <td>1</td>\n",
       "      <td>-</td>\n",
       "      <td>-</td>\n",
       "      <td>...</td>\n",
       "      <td>1</td>\n",
       "      <td>-</td>\n",
       "      <td>-</td>\n",
       "      <td>-</td>\n",
       "      <td>https://www.boothbayregister.com/article/sout...</td>\n",
       "      <td>NaN</td>\n",
       "      <td>James T. Penner</td>\n",
       "      <td>NaN</td>\n",
       "      <td>NaN</td>\n",
       "      <td>NaN</td>\n",
       "    </tr>\n",
       "  </tbody>\n",
       "</table>\n",
       "<p>5 rows × 21 columns</p>\n",
       "</div>"
      ],
      "text/plain": [
       "   Case #  Year       Date   Country   State   \\\n",
       "0     254  2022  8/16/2022   Germany      NaN   \n",
       "1     253  2022  8/15/2022       USA       CA   \n",
       "2     252  2022  8/14/2022   Finland      NaN   \n",
       "3     251  2022   8/2/2022       USA       FL   \n",
       "4     250  2022  7/27/2022       USA       ME   \n",
       "\n",
       "                            Description    Deaths   Tesla driver   \\\n",
       "0    Tesla car crashes into tree, burns          2            NaN   \n",
       "1     Tesla veers into oncoming traffic          4              1   \n",
       "2     Unlicensed driver hits pedestrian          1             -    \n",
       "3   Man in wheelchair hit crossing road          1             -    \n",
       "4           Tesla crashes at high speed          1              1   \n",
       "\n",
       "   Tesla occupant   Other vehicle   ...  TSLA+cycl / peds   Model   \\\n",
       "0              NaN              -   ...                  2     NaN   \n",
       "1                3              -   ...                  4     NaN   \n",
       "2               -               -   ...                  1     NaN   \n",
       "3               -               -   ...                  1       3   \n",
       "4               -               -   ...                  1      -    \n",
       "\n",
       "   AutoPilot claimed   Verified Tesla Autopilot Death   \\\n",
       "0                  -                                -    \n",
       "1                  -                                -    \n",
       "2                  -                                -    \n",
       "3                  -                                -    \n",
       "4                  -                                -    \n",
       "\n",
       "                                             Source   Note   \\\n",
       "0   https://www.tag24.de/nachrichten/unfall/tesla...    NaN   \n",
       "1   https://www.ksbw.com/article/hollister-crash-...    NaN   \n",
       "2                 https://yle.fi/uutiset/3-12576787     NaN   \n",
       "3   https://www.wfla.com/news/man-in-wheelchair-f...    NaN   \n",
       "4   https://www.boothbayregister.com/article/sout...    NaN   \n",
       "\n",
       "         Deceased 1   Deceased 2   Deceased 3   Deceased 4   \n",
       "0                NaN          NaN          NaN          NaN  \n",
       "1                NaN          NaN          NaN          NaN  \n",
       "2                NaN          NaN          NaN          NaN  \n",
       "3                NaN          NaN          NaN          NaN  \n",
       "4   James T. Penner           NaN          NaN          NaN  \n",
       "\n",
       "[5 rows x 21 columns]"
      ]
     },
     "execution_count": 49,
     "metadata": {},
     "output_type": "execute_result"
    }
   ],
   "source": [
    "df.head()"
   ]
  },
  {
   "cell_type": "code",
   "execution_count": 154,
   "id": "26b04689",
   "metadata": {},
   "outputs": [
    {
     "data": {
      "text/plain": [
       "Index(['Case #', 'Year', 'Date', 'Country', 'State', 'Description', 'Deaths',\n",
       "       'Tesla driver', 'Tesla occupant', 'Other vehicle', 'Cyclists/ Peds',\n",
       "       'TSLA+cycl / peds', 'Model', 'AutoPilot claimed',\n",
       "       'Verified Tesla Autopilot Death', 'Source', 'Note', 'Deceased 1',\n",
       "       'Deceased 2', 'Deceased 3', 'Deceased 4'],\n",
       "      dtype='object')"
      ]
     },
     "execution_count": 154,
     "metadata": {},
     "output_type": "execute_result"
    }
   ],
   "source": [
    "df.columns"
   ]
  },
  {
   "cell_type": "code",
   "execution_count": 85,
   "id": "66334ed3",
   "metadata": {},
   "outputs": [],
   "source": [
    "df.columns = df.columns.str.strip() "
   ]
  },
  {
   "cell_type": "code",
   "execution_count": 86,
   "id": "469d0603",
   "metadata": {},
   "outputs": [],
   "source": [
    "df_date = df.groupby(by='Year').sum().reset_index()"
   ]
  },
  {
   "cell_type": "code",
   "execution_count": 87,
   "id": "9572350b",
   "metadata": {
    "scrolled": false
   },
   "outputs": [
    {
     "data": {
      "text/plain": [
       "<AxesSubplot:xlabel='Year', ylabel='Deaths'>"
      ]
     },
     "execution_count": 87,
     "metadata": {},
     "output_type": "execute_result"
    },
    {
     "data": {
      "image/png": "[encoded data removed]",
      "text/plain": [
       "<Figure size 640x480 with 1 Axes>"
      ]
     },
     "metadata": {},
     "output_type": "display_data"
    }
   ],
   "source": [
    "sns.lineplot(data=df, x='Year', y='Deaths', estimator='sum')"
   ]
  },
  {
   "cell_type": "code",
   "execution_count": 44,
   "id": "80e08b67",
   "metadata": {
    "scrolled": true
   },
   "outputs": [
    {
     "data": {
      "image/png": "[encoded data removed]",
      "text/plain": [
       "<Figure size 1500x800 with 1 Axes>"
      ]
     },
     "metadata": {},
     "output_type": "display_data"
    }
   ],
   "source": [
    "plt.figure(figsize=(15,8))\n",
    "sns.countplot(data=df, x='Country')\n",
    "plt.xticks(rotation=45)\n",
    "\n",
    "plt.show()"
   ]
  },
  {
   "cell_type": "code",
   "execution_count": 48,
   "id": "bcaccfaa",
   "metadata": {},
   "outputs": [
    {
     "data": {
      "text/plain": [
       " USA             185\n",
       " China            13\n",
       " Germany          11\n",
       " Canada            6\n",
       " Netherlands       6\n",
       " Norway            4\n",
       " Holland           3\n",
       " Taiwan            3\n",
       " UK                3\n",
       " Switzerland       3\n",
       " Belgium           2\n",
       " Denmark           2\n",
       " France            2\n",
       " Australia         2\n",
       " Japan             2\n",
       " Portugal          1\n",
       " South Korea       1\n",
       " Slovenia          1\n",
       " Austria           1\n",
       " Ukraine           1\n",
       " Spain             1\n",
       " Finland           1\n",
       "Name:  Country , dtype: int64"
      ]
     },
     "execution_count": 48,
     "metadata": {},
     "output_type": "execute_result"
    }
   ],
   "source": [
    "df['Country'].value_counts()"
   ]
  },
  {
   "cell_type": "code",
   "execution_count": 57,
   "id": "f9c7fd90",
   "metadata": {},
   "outputs": [],
   "source": [
    "usa = df[df['Country'] == ' USA ']\n",
    "germany = df[df['Country'] == ' Germany ']\n"
   ]
  },
  {
   "cell_type": "code",
   "execution_count": 64,
   "id": "0b386d10",
   "metadata": {},
   "outputs": [],
   "source": [
    "usa_state = usa.groupby(by='State').sum().reset_index(inplace=True).sort_values(by='Deaths', ascending=False)"
   ]
  },
  {
   "cell_type": "code",
   "execution_count": 84,
   "id": "d844be4a",
   "metadata": {},
   "outputs": [
    {
     "data": {
      "text/html": [
       "<div>\n",
       "<style scoped>\n",
       "    .dataframe tbody tr th:only-of-type {\n",
       "        vertical-align: middle;\n",
       "    }\n",
       "\n",
       "    .dataframe tbody tr th {\n",
       "        vertical-align: top;\n",
       "    }\n",
       "\n",
       "    .dataframe thead th {\n",
       "        text-align: right;\n",
       "    }\n",
       "</style>\n",
       "<table border=\"1\" class=\"dataframe\">\n",
       "  <thead>\n",
       "    <tr style=\"text-align: right;\">\n",
       "      <th></th>\n",
       "      <th>State</th>\n",
       "      <th>Case #</th>\n",
       "      <th>Year</th>\n",
       "      <th>Deaths</th>\n",
       "      <th>Deceased 4</th>\n",
       "    </tr>\n",
       "  </thead>\n",
       "  <tbody>\n",
       "    <tr>\n",
       "      <th>1</th>\n",
       "      <td>CA</td>\n",
       "      <td>8624</td>\n",
       "      <td>151442</td>\n",
       "      <td>91</td>\n",
       "      <td>0.0</td>\n",
       "    </tr>\n",
       "    <tr>\n",
       "      <th>4</th>\n",
       "      <td>FL</td>\n",
       "      <td>2385</td>\n",
       "      <td>48462</td>\n",
       "      <td>28</td>\n",
       "      <td>0.0</td>\n",
       "    </tr>\n",
       "    <tr>\n",
       "      <th>0</th>\n",
       "      <td>AZ</td>\n",
       "      <td>1176</td>\n",
       "      <td>16161</td>\n",
       "      <td>11</td>\n",
       "      <td>0.0</td>\n",
       "    </tr>\n",
       "    <tr>\n",
       "      <th>27</th>\n",
       "      <td>CA</td>\n",
       "      <td>984</td>\n",
       "      <td>8088</td>\n",
       "      <td>7</td>\n",
       "      <td>0.0</td>\n",
       "    </tr>\n",
       "    <tr>\n",
       "      <th>24</th>\n",
       "      <td>VA</td>\n",
       "      <td>422</td>\n",
       "      <td>8078</td>\n",
       "      <td>7</td>\n",
       "      <td>0.0</td>\n",
       "    </tr>\n",
       "    <tr>\n",
       "      <th>16</th>\n",
       "      <td>NV</td>\n",
       "      <td>698</td>\n",
       "      <td>10101</td>\n",
       "      <td>6</td>\n",
       "      <td>0.0</td>\n",
       "    </tr>\n",
       "    <tr>\n",
       "      <th>22</th>\n",
       "      <td>TX</td>\n",
       "      <td>417</td>\n",
       "      <td>8076</td>\n",
       "      <td>6</td>\n",
       "      <td>0.0</td>\n",
       "    </tr>\n",
       "    <tr>\n",
       "      <th>20</th>\n",
       "      <td>PA</td>\n",
       "      <td>705</td>\n",
       "      <td>10102</td>\n",
       "      <td>6</td>\n",
       "      <td>0.0</td>\n",
       "    </tr>\n",
       "    <tr>\n",
       "      <th>18</th>\n",
       "      <td>OH</td>\n",
       "      <td>578</td>\n",
       "      <td>12115</td>\n",
       "      <td>6</td>\n",
       "      <td>0.0</td>\n",
       "    </tr>\n",
       "    <tr>\n",
       "      <th>17</th>\n",
       "      <td>NY</td>\n",
       "      <td>953</td>\n",
       "      <td>10107</td>\n",
       "      <td>6</td>\n",
       "      <td>0.0</td>\n",
       "    </tr>\n",
       "    <tr>\n",
       "      <th>5</th>\n",
       "      <td>GA</td>\n",
       "      <td>891</td>\n",
       "      <td>12123</td>\n",
       "      <td>6</td>\n",
       "      <td>0.0</td>\n",
       "    </tr>\n",
       "    <tr>\n",
       "      <th>23</th>\n",
       "      <td>UT</td>\n",
       "      <td>485</td>\n",
       "      <td>6063</td>\n",
       "      <td>5</td>\n",
       "      <td>0.0</td>\n",
       "    </tr>\n",
       "    <tr>\n",
       "      <th>15</th>\n",
       "      <td>NJ</td>\n",
       "      <td>558</td>\n",
       "      <td>6064</td>\n",
       "      <td>3</td>\n",
       "      <td>0.0</td>\n",
       "    </tr>\n",
       "    <tr>\n",
       "      <th>28</th>\n",
       "      <td>FL</td>\n",
       "      <td>494</td>\n",
       "      <td>4044</td>\n",
       "      <td>3</td>\n",
       "      <td>0.0</td>\n",
       "    </tr>\n",
       "    <tr>\n",
       "      <th>19</th>\n",
       "      <td>OR</td>\n",
       "      <td>460</td>\n",
       "      <td>4044</td>\n",
       "      <td>3</td>\n",
       "      <td>0.0</td>\n",
       "    </tr>\n",
       "    <tr>\n",
       "      <th>10</th>\n",
       "      <td>IN</td>\n",
       "      <td>125</td>\n",
       "      <td>4035</td>\n",
       "      <td>3</td>\n",
       "      <td>0.0</td>\n",
       "    </tr>\n",
       "    <tr>\n",
       "      <th>12</th>\n",
       "      <td>MO</td>\n",
       "      <td>386</td>\n",
       "      <td>6060</td>\n",
       "      <td>3</td>\n",
       "      <td>0.0</td>\n",
       "    </tr>\n",
       "    <tr>\n",
       "      <th>9</th>\n",
       "      <td>IL</td>\n",
       "      <td>155</td>\n",
       "      <td>4036</td>\n",
       "      <td>2</td>\n",
       "      <td>0.0</td>\n",
       "    </tr>\n",
       "    <tr>\n",
       "      <th>11</th>\n",
       "      <td>MI</td>\n",
       "      <td>167</td>\n",
       "      <td>2021</td>\n",
       "      <td>2</td>\n",
       "      <td>0.0</td>\n",
       "    </tr>\n",
       "    <tr>\n",
       "      <th>32</th>\n",
       "      <td>PA</td>\n",
       "      <td>487</td>\n",
       "      <td>4044</td>\n",
       "      <td>2</td>\n",
       "      <td>0.0</td>\n",
       "    </tr>\n",
       "    <tr>\n",
       "      <th>2</th>\n",
       "      <td>CO</td>\n",
       "      <td>366</td>\n",
       "      <td>4043</td>\n",
       "      <td>2</td>\n",
       "      <td>0.0</td>\n",
       "    </tr>\n",
       "    <tr>\n",
       "      <th>25</th>\n",
       "      <td>WA</td>\n",
       "      <td>326</td>\n",
       "      <td>4042</td>\n",
       "      <td>2</td>\n",
       "      <td>0.0</td>\n",
       "    </tr>\n",
       "    <tr>\n",
       "      <th>6</th>\n",
       "      <td>HI</td>\n",
       "      <td>47</td>\n",
       "      <td>4033</td>\n",
       "      <td>2</td>\n",
       "      <td>0.0</td>\n",
       "    </tr>\n",
       "    <tr>\n",
       "      <th>14</th>\n",
       "      <td>NH</td>\n",
       "      <td>77</td>\n",
       "      <td>4034</td>\n",
       "      <td>2</td>\n",
       "      <td>0.0</td>\n",
       "    </tr>\n",
       "    <tr>\n",
       "      <th>7</th>\n",
       "      <td>IA</td>\n",
       "      <td>250</td>\n",
       "      <td>4040</td>\n",
       "      <td>2</td>\n",
       "      <td>0.0</td>\n",
       "    </tr>\n",
       "    <tr>\n",
       "      <th>21</th>\n",
       "      <td>TN</td>\n",
       "      <td>35</td>\n",
       "      <td>2017</td>\n",
       "      <td>1</td>\n",
       "      <td>0.0</td>\n",
       "    </tr>\n",
       "    <tr>\n",
       "      <th>13</th>\n",
       "      <td>NC</td>\n",
       "      <td>218</td>\n",
       "      <td>2022</td>\n",
       "      <td>1</td>\n",
       "      <td>0.0</td>\n",
       "    </tr>\n",
       "    <tr>\n",
       "      <th>3</th>\n",
       "      <td>DE</td>\n",
       "      <td>72</td>\n",
       "      <td>2019</td>\n",
       "      <td>1</td>\n",
       "      <td>0.0</td>\n",
       "    </tr>\n",
       "    <tr>\n",
       "      <th>8</th>\n",
       "      <td>ID</td>\n",
       "      <td>205</td>\n",
       "      <td>2022</td>\n",
       "      <td>1</td>\n",
       "      <td>0.0</td>\n",
       "    </tr>\n",
       "    <tr>\n",
       "      <th>26</th>\n",
       "      <td>AL</td>\n",
       "      <td>240</td>\n",
       "      <td>2022</td>\n",
       "      <td>1</td>\n",
       "      <td>0.0</td>\n",
       "    </tr>\n",
       "    <tr>\n",
       "      <th>29</th>\n",
       "      <td>GA</td>\n",
       "      <td>242</td>\n",
       "      <td>2022</td>\n",
       "      <td>1</td>\n",
       "      <td>0.0</td>\n",
       "    </tr>\n",
       "    <tr>\n",
       "      <th>30</th>\n",
       "      <td>HA</td>\n",
       "      <td>245</td>\n",
       "      <td>2022</td>\n",
       "      <td>1</td>\n",
       "      <td>0.0</td>\n",
       "    </tr>\n",
       "    <tr>\n",
       "      <th>31</th>\n",
       "      <td>ME</td>\n",
       "      <td>250</td>\n",
       "      <td>2022</td>\n",
       "      <td>1</td>\n",
       "      <td>0.0</td>\n",
       "    </tr>\n",
       "    <tr>\n",
       "      <th>33</th>\n",
       "      <td>UT</td>\n",
       "      <td>249</td>\n",
       "      <td>2022</td>\n",
       "      <td>1</td>\n",
       "      <td>0.0</td>\n",
       "    </tr>\n",
       "  </tbody>\n",
       "</table>\n",
       "</div>"
      ],
      "text/plain": [
       "    State   Case #    Year   Deaths    Deceased 4 \n",
       "1      CA     8624  151442        91           0.0\n",
       "4      FL     2385   48462        28           0.0\n",
       "0      AZ     1176   16161        11           0.0\n",
       "27      CA     984    8088         7           0.0\n",
       "24     VA      422    8078         7           0.0\n",
       "16     NV      698   10101         6           0.0\n",
       "22     TX      417    8076         6           0.0\n",
       "20     PA      705   10102         6           0.0\n",
       "18     OH      578   12115         6           0.0\n",
       "17     NY      953   10107         6           0.0\n",
       "5      GA      891   12123         6           0.0\n",
       "23     UT      485    6063         5           0.0\n",
       "15     NJ      558    6064         3           0.0\n",
       "28      FL     494    4044         3           0.0\n",
       "19     OR      460    4044         3           0.0\n",
       "10     IN      125    4035         3           0.0\n",
       "12     MO      386    6060         3           0.0\n",
       "9      IL      155    4036         2           0.0\n",
       "11     MI      167    2021         2           0.0\n",
       "32      PA     487    4044         2           0.0\n",
       "2      CO      366    4043         2           0.0\n",
       "25     WA      326    4042         2           0.0\n",
       "6      HI       47    4033         2           0.0\n",
       "14     NH       77    4034         2           0.0\n",
       "7      IA      250    4040         2           0.0\n",
       "21     TN       35    2017         1           0.0\n",
       "13     NC      218    2022         1           0.0\n",
       "3      DE       72    2019         1           0.0\n",
       "8      ID      205    2022         1           0.0\n",
       "26      AL     240    2022         1           0.0\n",
       "29      GA     242    2022         1           0.0\n",
       "30      HA     245    2022         1           0.0\n",
       "31      ME     250    2022         1           0.0\n",
       "33      UT     249    2022         1           0.0"
      ]
     },
     "execution_count": 84,
     "metadata": {},
     "output_type": "execute_result"
    }
   ],
   "source": [
    "usa_state"
   ]
  },
  {
   "cell_type": "code",
   "execution_count": 72,
   "id": "c8ed155c",
   "metadata": {},
   "outputs": [
    {
     "data": {
      "image/png": "[encoded data removed]",
      "text/plain": [
       "<Figure size 1500x800 with 1 Axes>"
      ]
     },
     "metadata": {},
     "output_type": "display_data"
    }
   ],
   "source": [
    "plt.figure(figsize=(15,8))\n",
    "sns.barplot(data=usa_state, x='State', y='Deaths')\n",
    "\n",
    "plt.show()"
   ]
  },
  {
   "cell_type": "code",
   "execution_count": 88,
   "id": "3b5d6d7d",
   "metadata": {},
   "outputs": [],
   "source": [
    "# of these deaths how many are tesla drivers,     tesla occupants\n"
   ]
  },
  {
   "cell_type": "code",
   "execution_count": 89,
   "id": "726f6dd8",
   "metadata": {
    "scrolled": true
   },
   "outputs": [
    {
     "data": {
      "text/html": [
       "<div>\n",
       "<style scoped>\n",
       "    .dataframe tbody tr th:only-of-type {\n",
       "        vertical-align: middle;\n",
       "    }\n",
       "\n",
       "    .dataframe tbody tr th {\n",
       "        vertical-align: top;\n",
       "    }\n",
       "\n",
       "    .dataframe thead th {\n",
       "        text-align: right;\n",
       "    }\n",
       "</style>\n",
       "<table border=\"1\" class=\"dataframe\">\n",
       "  <thead>\n",
       "    <tr style=\"text-align: right;\">\n",
       "      <th></th>\n",
       "      <th>Case #</th>\n",
       "      <th>Year</th>\n",
       "      <th>Date</th>\n",
       "      <th>Country</th>\n",
       "      <th>State</th>\n",
       "      <th>Description</th>\n",
       "      <th>Deaths</th>\n",
       "      <th>Tesla driver</th>\n",
       "      <th>Tesla occupant</th>\n",
       "      <th>Other vehicle</th>\n",
       "      <th>...</th>\n",
       "      <th>TSLA+cycl / peds</th>\n",
       "      <th>Model</th>\n",
       "      <th>AutoPilot claimed</th>\n",
       "      <th>Verified Tesla Autopilot Death</th>\n",
       "      <th>Source</th>\n",
       "      <th>Note</th>\n",
       "      <th>Deceased 1</th>\n",
       "      <th>Deceased 2</th>\n",
       "      <th>Deceased 3</th>\n",
       "      <th>Deceased 4</th>\n",
       "    </tr>\n",
       "  </thead>\n",
       "  <tbody>\n",
       "    <tr>\n",
       "      <th>0</th>\n",
       "      <td>254</td>\n",
       "      <td>2022</td>\n",
       "      <td>8/16/2022</td>\n",
       "      <td>Germany</td>\n",
       "      <td>NaN</td>\n",
       "      <td>Tesla car crashes into tree, burns</td>\n",
       "      <td>2</td>\n",
       "      <td>NaN</td>\n",
       "      <td>NaN</td>\n",
       "      <td>-</td>\n",
       "      <td>...</td>\n",
       "      <td>2</td>\n",
       "      <td>NaN</td>\n",
       "      <td>-</td>\n",
       "      <td>-</td>\n",
       "      <td>https://www.tag24.de/nachrichten/unfall/tesla...</td>\n",
       "      <td>NaN</td>\n",
       "      <td>NaN</td>\n",
       "      <td>NaN</td>\n",
       "      <td>NaN</td>\n",
       "      <td>NaN</td>\n",
       "    </tr>\n",
       "    <tr>\n",
       "      <th>1</th>\n",
       "      <td>253</td>\n",
       "      <td>2022</td>\n",
       "      <td>8/15/2022</td>\n",
       "      <td>USA</td>\n",
       "      <td>CA</td>\n",
       "      <td>Tesla veers into oncoming traffic</td>\n",
       "      <td>4</td>\n",
       "      <td>1</td>\n",
       "      <td>3</td>\n",
       "      <td>-</td>\n",
       "      <td>...</td>\n",
       "      <td>4</td>\n",
       "      <td>NaN</td>\n",
       "      <td>-</td>\n",
       "      <td>-</td>\n",
       "      <td>https://www.ksbw.com/article/hollister-crash-...</td>\n",
       "      <td>NaN</td>\n",
       "      <td>NaN</td>\n",
       "      <td>NaN</td>\n",
       "      <td>NaN</td>\n",
       "      <td>NaN</td>\n",
       "    </tr>\n",
       "    <tr>\n",
       "      <th>2</th>\n",
       "      <td>252</td>\n",
       "      <td>2022</td>\n",
       "      <td>8/14/2022</td>\n",
       "      <td>Finland</td>\n",
       "      <td>NaN</td>\n",
       "      <td>Unlicensed driver hits pedestrian</td>\n",
       "      <td>1</td>\n",
       "      <td>-</td>\n",
       "      <td>-</td>\n",
       "      <td>-</td>\n",
       "      <td>...</td>\n",
       "      <td>1</td>\n",
       "      <td>NaN</td>\n",
       "      <td>-</td>\n",
       "      <td>-</td>\n",
       "      <td>https://yle.fi/uutiset/3-12576787</td>\n",
       "      <td>NaN</td>\n",
       "      <td>NaN</td>\n",
       "      <td>NaN</td>\n",
       "      <td>NaN</td>\n",
       "      <td>NaN</td>\n",
       "    </tr>\n",
       "    <tr>\n",
       "      <th>3</th>\n",
       "      <td>251</td>\n",
       "      <td>2022</td>\n",
       "      <td>8/2/2022</td>\n",
       "      <td>USA</td>\n",
       "      <td>FL</td>\n",
       "      <td>Man in wheelchair hit crossing road</td>\n",
       "      <td>1</td>\n",
       "      <td>-</td>\n",
       "      <td>-</td>\n",
       "      <td>-</td>\n",
       "      <td>...</td>\n",
       "      <td>1</td>\n",
       "      <td>3</td>\n",
       "      <td>-</td>\n",
       "      <td>-</td>\n",
       "      <td>https://www.wfla.com/news/man-in-wheelchair-f...</td>\n",
       "      <td>NaN</td>\n",
       "      <td>NaN</td>\n",
       "      <td>NaN</td>\n",
       "      <td>NaN</td>\n",
       "      <td>NaN</td>\n",
       "    </tr>\n",
       "    <tr>\n",
       "      <th>4</th>\n",
       "      <td>250</td>\n",
       "      <td>2022</td>\n",
       "      <td>7/27/2022</td>\n",
       "      <td>USA</td>\n",
       "      <td>ME</td>\n",
       "      <td>Tesla crashes at high speed</td>\n",
       "      <td>1</td>\n",
       "      <td>1</td>\n",
       "      <td>-</td>\n",
       "      <td>-</td>\n",
       "      <td>...</td>\n",
       "      <td>1</td>\n",
       "      <td>-</td>\n",
       "      <td>-</td>\n",
       "      <td>-</td>\n",
       "      <td>https://www.boothbayregister.com/article/sout...</td>\n",
       "      <td>NaN</td>\n",
       "      <td>James T. Penner</td>\n",
       "      <td>NaN</td>\n",
       "      <td>NaN</td>\n",
       "      <td>NaN</td>\n",
       "    </tr>\n",
       "  </tbody>\n",
       "</table>\n",
       "<p>5 rows × 21 columns</p>\n",
       "</div>"
      ],
      "text/plain": [
       "   Case #  Year       Date    Country State  \\\n",
       "0     254  2022  8/16/2022   Germany    NaN   \n",
       "1     253  2022  8/15/2022       USA     CA   \n",
       "2     252  2022  8/14/2022   Finland    NaN   \n",
       "3     251  2022   8/2/2022       USA     FL   \n",
       "4     250  2022  7/27/2022       USA     ME   \n",
       "\n",
       "                             Description  Deaths Tesla driver Tesla occupant  \\\n",
       "0    Tesla car crashes into tree, burns        2          NaN            NaN   \n",
       "1     Tesla veers into oncoming traffic        4            1              3   \n",
       "2     Unlicensed driver hits pedestrian        1           -              -    \n",
       "3   Man in wheelchair hit crossing road        1           -              -    \n",
       "4           Tesla crashes at high speed        1            1             -    \n",
       "\n",
       "  Other vehicle  ... TSLA+cycl / peds Model AutoPilot claimed  \\\n",
       "0            -   ...                2   NaN                -    \n",
       "1            -   ...                4   NaN                -    \n",
       "2            -   ...                1   NaN                -    \n",
       "3            -   ...                1     3                -    \n",
       "4            -   ...                1    -                 -    \n",
       "\n",
       "  Verified Tesla Autopilot Death  \\\n",
       "0                             -    \n",
       "1                             -    \n",
       "2                             -    \n",
       "3                             -    \n",
       "4                             -    \n",
       "\n",
       "                                              Source Note         Deceased 1  \\\n",
       "0   https://www.tag24.de/nachrichten/unfall/tesla...  NaN                NaN   \n",
       "1   https://www.ksbw.com/article/hollister-crash-...  NaN                NaN   \n",
       "2                 https://yle.fi/uutiset/3-12576787   NaN                NaN   \n",
       "3   https://www.wfla.com/news/man-in-wheelchair-f...  NaN                NaN   \n",
       "4   https://www.boothbayregister.com/article/sout...  NaN   James T. Penner    \n",
       "\n",
       "  Deceased 2 Deceased 3 Deceased 4  \n",
       "0        NaN        NaN        NaN  \n",
       "1        NaN        NaN        NaN  \n",
       "2        NaN        NaN        NaN  \n",
       "3        NaN        NaN        NaN  \n",
       "4        NaN        NaN        NaN  \n",
       "\n",
       "[5 rows x 21 columns]"
      ]
     },
     "execution_count": 89,
     "metadata": {},
     "output_type": "execute_result"
    }
   ],
   "source": [
    "df.head()"
   ]
  },
  {
   "cell_type": "code",
   "execution_count": 90,
   "id": "a72e21e2",
   "metadata": {},
   "outputs": [
    {
     "data": {
      "text/plain": [
       " -     151\n",
       "1       99\n",
       "Name: Tesla driver, dtype: int64"
      ]
     },
     "execution_count": 90,
     "metadata": {},
     "output_type": "execute_result"
    }
   ],
   "source": [
    "df['Tesla driver'].value_counts()"
   ]
  },
  {
   "cell_type": "code",
   "execution_count": 106,
   "id": "9fb7a1b3",
   "metadata": {},
   "outputs": [
    {
     "data": {
      "text/plain": [
       "<AxesSubplot:xlabel='Tesla occupant', ylabel='count'>"
      ]
     },
     "execution_count": 106,
     "metadata": {},
     "output_type": "execute_result"
    },
    {
     "data": {
      "image/png": "[encoded data removed]",
      "text/plain": [
       "<Figure size 1000x300 with 2 Axes>"
      ]
     },
     "metadata": {},
     "output_type": "display_data"
    }
   ],
   "source": [
    "\n",
    "f, axes = plt.subplots(1, 2, figsize=(10,3))\n",
    "sns.countplot(data=df, x='Tesla driver' , ax=axes[0])\n",
    "sns.countplot(data=df, x=\"Tesla occupant\", ax=axes[1])"
   ]
  },
  {
   "cell_type": "code",
   "execution_count": 107,
   "id": "abe62289",
   "metadata": {},
   "outputs": [],
   "source": [
    "# model of the car"
   ]
  },
  {
   "cell_type": "code",
   "execution_count": 121,
   "id": "47184135",
   "metadata": {},
   "outputs": [],
   "source": [
    "model = df.groupby(by='Model').sum()"
   ]
  },
  {
   "cell_type": "code",
   "execution_count": 124,
   "id": "ca268938",
   "metadata": {},
   "outputs": [
    {
     "data": {
      "text/html": [
       "<div>\n",
       "<style scoped>\n",
       "    .dataframe tbody tr th:only-of-type {\n",
       "        vertical-align: middle;\n",
       "    }\n",
       "\n",
       "    .dataframe tbody tr th {\n",
       "        vertical-align: top;\n",
       "    }\n",
       "\n",
       "    .dataframe thead th {\n",
       "        text-align: right;\n",
       "    }\n",
       "</style>\n",
       "<table border=\"1\" class=\"dataframe\">\n",
       "  <thead>\n",
       "    <tr style=\"text-align: right;\">\n",
       "      <th></th>\n",
       "      <th>index</th>\n",
       "      <th>Model</th>\n",
       "      <th>Case #</th>\n",
       "      <th>Year</th>\n",
       "      <th>Deaths</th>\n",
       "      <th>Deceased 4</th>\n",
       "    </tr>\n",
       "  </thead>\n",
       "  <tbody>\n",
       "    <tr>\n",
       "      <th>0</th>\n",
       "      <td>0</td>\n",
       "      <td>-</td>\n",
       "      <td>20826</td>\n",
       "      <td>296937</td>\n",
       "      <td>174</td>\n",
       "      <td>0.0</td>\n",
       "    </tr>\n",
       "    <tr>\n",
       "      <th>1</th>\n",
       "      <td>1</td>\n",
       "      <td>S</td>\n",
       "      <td>3591</td>\n",
       "      <td>90837</td>\n",
       "      <td>54</td>\n",
       "      <td>0.0</td>\n",
       "    </tr>\n",
       "    <tr>\n",
       "      <th>2</th>\n",
       "      <td>2</td>\n",
       "      <td>X</td>\n",
       "      <td>1687</td>\n",
       "      <td>34328</td>\n",
       "      <td>19</td>\n",
       "      <td>0.0</td>\n",
       "    </tr>\n",
       "    <tr>\n",
       "      <th>3</th>\n",
       "      <td>3</td>\n",
       "      <td>Y</td>\n",
       "      <td>1263</td>\n",
       "      <td>14146</td>\n",
       "      <td>9</td>\n",
       "      <td>0.0</td>\n",
       "    </tr>\n",
       "    <tr>\n",
       "      <th>4</th>\n",
       "      <td>4</td>\n",
       "      <td>3</td>\n",
       "      <td>4259</td>\n",
       "      <td>70698</td>\n",
       "      <td>41</td>\n",
       "      <td>0.0</td>\n",
       "    </tr>\n",
       "  </tbody>\n",
       "</table>\n",
       "</div>"
      ],
      "text/plain": [
       "   index Model  Case #    Year  Deaths  Deceased 4\n",
       "0      0    -    20826  296937     174         0.0\n",
       "1      1    S     3591   90837      54         0.0\n",
       "2      2    X     1687   34328      19         0.0\n",
       "3      3    Y     1263   14146       9         0.0\n",
       "4      4     3    4259   70698      41         0.0"
      ]
     },
     "execution_count": 124,
     "metadata": {},
     "output_type": "execute_result"
    }
   ],
   "source": [
    "model.reset_index(inplace=True)\n",
    "model"
   ]
  },
  {
   "cell_type": "code",
   "execution_count": 126,
   "id": "c4522c9f",
   "metadata": {},
   "outputs": [
    {
     "data": {
      "text/plain": [
       "<AxesSubplot:xlabel='Model', ylabel='Deaths'>"
      ]
     },
     "execution_count": 126,
     "metadata": {},
     "output_type": "execute_result"
    },
    {
     "data": {
      "image/png": "[encoded data removed]",
      "text/plain": [
       "<Figure size 640x480 with 1 Axes>"
      ]
     },
     "metadata": {},
     "output_type": "display_data"
    }
   ],
   "source": [
    "sns.barplot(data=model, x='Model', y='Deaths')"
   ]
  },
  {
   "cell_type": "code",
   "execution_count": 108,
   "id": "dbc65ed2",
   "metadata": {},
   "outputs": [],
   "source": [
    "# hits pedestiran"
   ]
  },
  {
   "cell_type": "code",
   "execution_count": 138,
   "id": "9b147687",
   "metadata": {
    "scrolled": true
   },
   "outputs": [
    {
     "data": {
      "text/plain": [
       "18"
      ]
     },
     "execution_count": 138,
     "metadata": {},
     "output_type": "execute_result"
    }
   ],
   "source": [
    "df['Description'].str.contains('pedestrian').sum()"
   ]
  },
  {
   "cell_type": "code",
   "execution_count": 135,
   "id": "85d3982f",
   "metadata": {},
   "outputs": [
    {
     "data": {
      "text/plain": [
       "tesla           181\n",
       "into             69\n",
       "crashes          40\n",
       "car              40\n",
       "driver           32\n",
       "hits             30\n",
       "and              29\n",
       "kills            26\n",
       "in               23\n",
       "collision        22\n",
       "strikes          22\n",
       "pedestrian       21\n",
       "on               19\n",
       "crash            16\n",
       "fire             15\n",
       "hit              13\n",
       "motorcyclist     13\n",
       "ends             12\n",
       "rear             12\n",
       "drives           12\n",
       "dies             12\n",
       "a                11\n",
       "runs             11\n",
       "off              11\n",
       "with             10\n",
       "loses            10\n",
       "tree             10\n",
       "control           9\n",
       "later             9\n",
       "oncoming          9\n",
       "traffic           9\n",
       "other             8\n",
       "highway           8\n",
       "burns             8\n",
       "catches           8\n",
       "tesla,            8\n",
       "dui               8\n",
       "tree,             7\n",
       "involving         7\n",
       "vehicle           7\n",
       "at                7\n",
       "of                6\n",
       "wrong             6\n",
       "ignites           6\n",
       "truck             6\n",
       "by                6\n",
       "pole,             6\n",
       "head-on           6\n",
       "goes              6\n",
       "lane              6\n",
       "dtype: int64"
      ]
     },
     "execution_count": 135,
     "metadata": {},
     "output_type": "execute_result"
    }
   ],
   "source": [
    " pd.Series(' '.join(df['Description']).lower().split()).value_counts()[:50]"
   ]
  },
  {
   "cell_type": "code",
   "execution_count": 109,
   "id": "49f6b312",
   "metadata": {},
   "outputs": [],
   "source": [
    "#Vehicle features analysis: Study the features of Tesla vehicles involved in accidents, such as Autopilot usage, to see if certain features are associated with an increased risk of accidents."
   ]
  },
  {
   "cell_type": "code",
   "execution_count": 141,
   "id": "f6d8f0b8",
   "metadata": {},
   "outputs": [
    {
     "data": {
      "text/plain": [
       " -     240\n",
       "1       13\n",
       "2        1\n",
       "Name: Verified Tesla Autopilot Death, dtype: int64"
      ]
     },
     "execution_count": 141,
     "metadata": {},
     "output_type": "execute_result"
    }
   ],
   "source": [
    "df['Verified Tesla Autopilot Death'].value_counts()"
   ]
  },
  {
   "cell_type": "code",
   "execution_count": 142,
   "id": "9c8985c8",
   "metadata": {},
   "outputs": [
    {
     "data": {
      "text/plain": [
       "<AxesSubplot:xlabel='Verified Tesla Autopilot Death', ylabel='count'>"
      ]
     },
     "execution_count": 142,
     "metadata": {},
     "output_type": "execute_result"
    },
    {
     "data": {
      "image/png": "[encoded data removed]",
      "text/plain": [
       "<Figure size 640x480 with 1 Axes>"
      ]
     },
     "metadata": {},
     "output_type": "display_data"
    }
   ],
   "source": [
    "sns.countplot(data=df, x='Verified Tesla Autopilot Death')"
   ]
  },
  {
   "cell_type": "code",
   "execution_count": 111,
   "id": "23ecd62b",
   "metadata": {},
   "outputs": [],
   "source": [
    "#Survival rate analysis: Analyze the survival rate of individuals involved in Tesla car accidents to see if "
   ]
  },
  {
   "cell_type": "code",
   "execution_count": 148,
   "id": "bd8360bc",
   "metadata": {},
   "outputs": [],
   "source": [
    "deaths_total = df['Deaths'].sum()"
   ]
  },
  {
   "cell_type": "code",
   "execution_count": 152,
   "id": "858ddc07",
   "metadata": {
    "scrolled": true
   },
   "outputs": [
    {
     "data": {
      "text/plain": [
       "1.1968503937007875"
      ]
     },
     "execution_count": 152,
     "metadata": {},
     "output_type": "execute_result"
    }
   ],
   "source": [
    "death_rate = deaths_total / len(df) \n",
    "death_rate"
   ]
  },
  {
   "cell_type": "code",
   "execution_count": 159,
   "id": "1552671f",
   "metadata": {},
   "outputs": [
    {
     "data": {
      "text/plain": [
       "<AxesSubplot:xlabel='TSLA+cycl / peds', ylabel='count'>"
      ]
     },
     "execution_count": 159,
     "metadata": {},
     "output_type": "execute_result"
    },
    {
     "data": {
      "image/png": "[encoded data removed]",
      "text/plain": [
       "<Figure size 640x480 with 1 Axes>"
      ]
     },
     "metadata": {},
     "output_type": "display_data"
    }
   ],
   "source": [
    "sns.countplot(data=df, x='TSLA+cycl / peds')"
   ]
  },
  {
   "cell_type": "code",
   "execution_count": 158,
   "id": "8673ccb0",
   "metadata": {},
   "outputs": [
    {
     "data": {
      "text/plain": [
       "<AxesSubplot:xlabel='Cyclists/ Peds', ylabel='count'>"
      ]
     },
     "execution_count": 158,
     "metadata": {},
     "output_type": "execute_result"
    },
    {
     "data": {
      "image/png": "[encoded data removed]",
      "text/plain": [
       "<Figure size 640x480 with 1 Axes>"
      ]
     },
     "metadata": {},
     "output_type": "display_data"
    }
   ],
   "source": [
    "sns.countplot(data=df, x='Cyclists/ Peds')"
   ]
  },
  {
   "cell_type": "code",
   "execution_count": 156,
   "id": "87070d04",
   "metadata": {},
   "outputs": [
    {
     "data": {
      "text/plain": [
       "<AxesSubplot:xlabel='Other vehicle', ylabel='count'>"
      ]
     },
     "execution_count": 156,
     "metadata": {},
     "output_type": "execute_result"
    },
    {
     "data": {
      "image/png": "[encoded data removed]",
      "text/plain": [
       "<Figure size 640x480 with 1 Axes>"
      ]
     },
     "metadata": {},
     "output_type": "display_data"
    }
   ],
   "source": [
    "sns.countplot(data=df, x='Other vehicle')"
   ]
  },
  {
   "cell_type": "code",
   "execution_count": null,
   "id": "7c21a399",
   "metadata": {},
   "outputs": [],
   "source": [
    "### Model type per locations"
   ]
  },
  {
   "cell_type": "code",
   "execution_count": null,
   "id": "19142d7a",
   "metadata": {},
   "outputs": [],
   "source": []
  },
  {
   "cell_type": "code",
   "execution_count": null,
   "id": "22b5a3bd",
   "metadata": {},
   "outputs": [],
   "source": [
    "# Additionally consider using descriptive analytics such as means and medians to determine if certain models are more prone to accidents than others compared against one another;\n",
    "#while also exploring if Autopilot feature usage has any correlation to higher rates/ numbers involving fatalities .\n",
    "\n"
   ]
  },
  {
   "cell_type": "code",
   "execution_count": null,
   "id": "7483f607",
   "metadata": {},
   "outputs": [],
   "source": []
  },
  {
   "cell_type": "markdown",
   "id": "f191fab5",
   "metadata": {},
   "source": [
    "## Stuff to go further"
   ]
  },
  {
   "cell_type": "code",
   "execution_count": 112,
   "id": "6f48729e",
   "metadata": {},
   "outputs": [],
   "source": [
    "# Driver behavior analysis: Study the behavior of drivers involved in Tesla car deaths, such as speed, distraction, and impairment, to identify areas for improvement in driver education and training."
   ]
  },
  {
   "cell_type": "code",
   "execution_count": null,
   "id": "9c3fd582",
   "metadata": {},
   "outputs": [],
   "source": []
  },
  {
   "cell_type": "code",
   "execution_count": 110,
   "id": "aba8b864",
   "metadata": {},
   "outputs": [],
   "source": [
    "#Comparison with other vehicles: Compare the frequency of Tesla car deaths with other vehicles on the market to see how Tesla compares in terms of safety\n",
    "\n",
    "#Tesla's safety features are effective in reducing fatalities. COMPARED TO OTHER CARS -- do laterr."
   ]
  }
 ],
 "metadata": {
  "kernelspec": {
   "display_name": "Python 3 (ipykernel)",
   "language": "python",
   "name": "python3"
  },
  "language_info": {
   "codemirror_mode": {
    "name": "ipython",
    "version": 3
   },
   "file_extension": ".py",
   "mimetype": "text/x-python",
   "name": "python",
   "nbconvert_exporter": "python",
   "pygments_lexer": "ipython3",
   "version": "3.10.6"
  }
 },
 "nbformat": 4,
 "nbformat_minor": 5
}
